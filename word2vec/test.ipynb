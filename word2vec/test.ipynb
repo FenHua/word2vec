{
 "cells": [
  {
   "cell_type": "code",
   "execution_count": 2,
   "metadata": {
    "collapsed": true
   },
   "outputs": [],
   "source": [
    "from __future__ import absolute_import\n",
    "from __future__ import division\n",
    "from __future__ import print_function\n",
    "#把下一个新版本的特性导入到当前版本\n",
    "import collections\n",
    "import math\n",
    "import os\n",
    "import random\n",
    "import zipfile\n",
    "\n",
    "import numpy as np\n",
    "from six.moves import urllib\n",
    "from six.moves import xrange\n",
    "import tensorflow as tf"
   ]
  },
  {
   "cell_type": "code",
   "execution_count": 3,
   "metadata": {},
   "outputs": [
    {
     "name": "stdout",
     "output_type": "stream",
     "text": [
      "Found and verified text8 .zip\n"
     ]
    }
   ],
   "source": [
    "url=\"http://mattmahoney.net/dc/\"\n",
    "def maybe_download(filename,expected_bytes):\n",
    "    # 检查最终文件字节数和expected是否相同\n",
    "    if not os.path.exists(filename):\n",
    "        filename,_=urllib.request.urlretrieve(url+filename,filename)\n",
    "    statinfo=os.stat(filename)\n",
    "    if statinfo.st_size==expected_bytes:\n",
    "        print('Found and verified',filename)\n",
    "    else:\n",
    "        print(statinfo.sz_size)\n",
    "        raise Exception('Failed to verify'+filename+'. Can you get to it with a browser?')\n",
    "    return filename\n",
    "filename=maybe_download('text8 .zip',31344016)"
   ]
  },
  {
   "cell_type": "code",
   "execution_count": 4,
   "metadata": {},
   "outputs": [
    {
     "name": "stdout",
     "output_type": "stream",
     "text": [
      "Data size 17005207\n",
      "['anarchism', 'originated', 'as', 'a', 'term', 'of', 'abuse', 'first', 'used', 'against', 'early', 'working', 'class', 'radicals', 'including', 'the', 'diggers', 'of', 'the', 'english', 'revolution', 'and', 'the', 'sans', 'culottes', 'of', 'the', 'french', 'revolution', 'whilst', 'the', 'term', 'is', 'still', 'used', 'in', 'a', 'pejorative', 'way', 'to', 'describe', 'any', 'act', 'that', 'used', 'violent', 'means', 'to', 'destroy', 'the', 'organization', 'of', 'society', 'it', 'has', 'also', 'been', 'taken', 'up', 'as', 'a', 'positive', 'label', 'by', 'self', 'defined', 'anarchists', 'the', 'word', 'anarchism', 'is', 'derived', 'from', 'the', 'greek', 'without', 'archons', 'ruler', 'chief', 'king', 'anarchism', 'as', 'a', 'political', 'philosophy', 'is', 'the', 'belief', 'that', 'rulers', 'are', 'unnecessary', 'and', 'should', 'be', 'abolished', 'although', 'there', 'are', 'differing']\n"
     ]
    }
   ],
   "source": [
    "# 将语料库解压，并转换成一个word的list\n",
    "def read_data(filename):\n",
    "    with zipfile.ZipFile(filename) as f:\n",
    "        data=tf.compat.as_str(f.read(f.namelist()[0])).split()\n",
    "    return data\n",
    "vocabulary=read_data(filename)\n",
    "print('Data size',len(vocabulary))\n",
    "print(vocabulary[0:100])"
   ]
  },
  {
   "cell_type": "code",
   "execution_count": 5,
   "metadata": {
    "collapsed": true
   },
   "outputs": [],
   "source": [
    "#制作一个词表，，将单词映射为一个id，词表的大小为5W\n",
    "#即只考虑常用的5W个单词\n",
    "#将不常见的词变成一个UNK标识，统一到一个id\n",
    "vocabulary_size=50000\n",
    "def build_dataset(words,n_words):\n",
    "    #将原始的单词变成单词\n",
    "    count=[['UNK',-1]]\n",
    "    count.extend(collections.Counter(words).most_common(n_words-1))\n",
    "    dictionary=dict()\n",
    "    for word,_ in count:\n",
    "        dictionary[word]=len(dictionary)\n",
    "    data=list()\n",
    "    unk_count=0\n",
    "    for word in words:\n",
    "        if word in dictionary:\n",
    "            index=dictionary[word]\n",
    "        else:\n",
    "            index=0 #unk的index为0\n",
    "            unk_count+=1\n",
    "        data.append(index)\n",
    "    count[0][1]=unk_count\n",
    "    reversed_dictionary=dict(zip(dictionary.values(),dictionary.keys()))\n",
    "    return data,count,dictionary,reversed_dictionary"
   ]
  },
  {
   "cell_type": "code",
   "execution_count": 6,
   "metadata": {},
   "outputs": [
    {
     "name": "stdout",
     "output_type": "stream",
     "text": [
      "Most comman words [['UNK', 418391], ('the', 1061396), ('of', 593677), ('and', 416629), ('one', 411764)]\n",
      "Sample data [5239, 3084, 12, 6, 195, 2, 3137, 46, 59, 156] ['anarchism', 'originated', 'as', 'a', 'term', 'of', 'abuse', 'first', 'used', 'against']\n"
     ]
    }
   ],
   "source": [
    "data,count,dictionary,reverse_dictionary=build_dataset(vocabulary,vocabulary_size)\n",
    "del vocabulary #删除已节省的内存\n",
    "print('Most comman words',count[:5])\n",
    "print('Sample data',data[:10],[reverse_dictionary[i] for i in data[:10]])\n",
    "data_index=0"
   ]
  },
  {
   "cell_type": "code",
   "execution_count": 7,
   "metadata": {},
   "outputs": [
    {
     "name": "stdout",
     "output_type": "stream",
     "text": [
      "3084 originated -> 5239 anarchism\n",
      "3084 originated -> 12 as\n",
      "12 as -> 3084 originated\n",
      "12 as -> 6 a\n",
      "6 a -> 195 term\n",
      "6 a -> 12 as\n",
      "195 term -> 2 of\n",
      "195 term -> 6 a\n"
     ]
    }
   ],
   "source": [
    "#定义一个函数用于skip-gram模型用的batch\n",
    "def generate_batch(batch_size,num_skips,skip_window):\n",
    "    # data_index 相当于一个指针，初始化为0，每次生成一个batch，data_index会相应地往后推\n",
    "    global data_index\n",
    "    assert batch_size%num_skips==0\n",
    "    assert num_skips<=2*skip_window\n",
    "    batch=np.ndarray(shape=(batch_size),dtype=np.int32)\n",
    "    labels=np.ndarray(shape=(batch_size,1),dtype=np.int32)\n",
    "    span=2*skip_window+1\n",
    "    buffer=collections.deque(maxlen=span)\n",
    "    #data index 是当前数据的起始位置\n",
    "    #产生batch往后推一位\n",
    "    for _ in range(span):\n",
    "        buffer.append(data[data_index])\n",
    "        data_index=(data_index+1)%len(data)\n",
    "    for i in range(batch_size//num_skips):\n",
    "        #利用buffer生成batch，buffer是一个长度为2×skip Window + 1长度的word list\n",
    "        #一个buffer生成num skips个数的样本\n",
    "        target=skip_window #target label at the center of the buffer\n",
    "        #target_to_avoid保证样本不重复\n",
    "        targets_to_avoid=[skip_window]\n",
    "        for j in range(num_skips):\n",
    "            while target in targets_to_avoid:\n",
    "                target=random.randint(0,span-1)\n",
    "            targets_to_avoid.append(target)\n",
    "            batch[i*num_skips+j]=buffer[skip_window]\n",
    "            labels[i*num_skips+j]=buffer[target]\n",
    "        buffer.append(data[data_index])\n",
    "        #每利用buffer生成num skips个样本，data index往后推一位\n",
    "        data_index=(data_index+1)%len(data)\n",
    "    data_index=(data_index+len(data)-span)%len(data)\n",
    "    return batch,labels\n",
    "#默认情况下skip Window=1，num skip=2\n",
    "#此时是从连续的3(3=skip_window+1)个词中生成2(num_skips)个样本\n",
    "batch,labels=generate_batch(batch_size=8,num_skips=2,skip_window=1)\n",
    "for i in range(8):\n",
    "    print(batch[i],reverse_dictionary[batch[i]],'->',labels[i,0],reverse_dictionary[labels[i,0]])"
   ]
  },
  {
   "cell_type": "code",
   "execution_count": 13,
   "metadata": {},
   "outputs": [],
   "source": [
    "#建模\n",
    "batch_size=128\n",
    "embedding_size=128\n",
    "skip_window=1\n",
    "num_skips=2\n",
    "#在模型训练时会对模型进行验证，验证的方法是找出和某个词最近的词\n",
    "#只对前valid window的词进行验证\n",
    "valid_size=16 #每次验证16个词\n",
    "valid_window=100 #这16个词来自100个最常见的词\n",
    "valid_examples=np.random.choice(valid_window,valid_size,replace=False)\n",
    "#构造损失时选取的噪声词的数量\n",
    "num_sampled=64\n",
    "graph=tf.Graph()\n",
    "with graph.as_default():\n",
    "    #输入batch\n",
    "    train_inputs=tf.placeholder(tf.int32,shape=[batch_size])\n",
    "    train_labels=tf.placeholder(tf.int32,shape=[batch_size,1])\n",
    "    #用于验证的词\n",
    "    valid_dataset=tf.constant(valid_examples,dtype=tf.int32)\n",
    "    #CPU实现\n",
    "    with tf.device('/cpu:0'):\n",
    "        #定义一个embedding变量，相当于一行存储一个词的embedding\n",
    "        embeddings=tf.Variable(tf.random_uniform([vocabulary_size,embedding_size],-1.0,1.0))\n",
    "        #利用embedding lookup可以轻松得到一个batch内的所有词的嵌入\n",
    "        embed=tf.nn.embedding_lookup(embeddings,train_inputs)\n",
    "        #创建俩变量用于NCE loss\n",
    "        nce_weights=tf.Variable(tf.truncated_normal([vocabulary_size,embedding_size],stddev=1.0/math.sqrt(embedding_size)))\n",
    "        nce_biases=tf.Variable(tf.zeros([vocabulary_size]))\n",
    "        #nce_loss会自动选取噪声词，并且形成损失，随机选取num sampled个噪声词\n",
    "        loss=tf.reduce_mean(tf.nn.nce_loss(weights=nce_weights,biases=nce_biases,labels=train_labels,inputs=embed,num_sampled=num_sampled,num_classes=vocabulary_size))\n",
    "        #得到loss后构造优化器\n",
    "        optimizer=tf.train.GradientDescentOptimizer(1.0).minimize(loss)\n",
    "        #对embedding层做一次归一化\n",
    "        norm=tf.sqrt(tf.reduce_sum(tf.square(embeddings),1,keep_dims=True))\n",
    "        normalized_embeddings=embeddings/norm\n",
    "        #找出和验证词的embedding并计算他们和所有单词的相似度\n",
    "        valid_embeddings=tf.nn.embedding_lookup(normalized_embeddings,valid_dataset)\n",
    "        similarity=tf.matmul(valid_embeddings,normalized_embeddings,transpose_b=True)\n",
    "        #变量初始化\n",
    "        init=tf.global_variables_initializer()"
   ]
  },
  {
   "cell_type": "code",
   "execution_count": 20,
   "metadata": {},
   "outputs": [
    {
     "name": "stdout",
     "output_type": "stream",
     "text": [
      "initialized\n",
      "Nearest to such:,orlando,syndicate,universiti,sustainability,hesitate,greek,bingen,karnataka\n",
      "Nearest to all:,domitian,mantua,hearings,softer,divisions,gan,wilfred,backups\n",
      "Nearest to during:,knopf,loan,colonization,sucks,innes,ducts,yemen,tyrants\n",
      "Nearest to many:,ailuropoda,preserve,sow,polymers,ruben,elbow,capability,yesterday\n",
      "Nearest to often:,observation,demarco,fuze,authorize,honneur,subgenres,maladaptive,monmouth\n",
      "Nearest to at:,stamford,zahir,phimosis,samsara,congress,celebrities,mik,xj\n",
      "Nearest to also:,geri,shogun,automakers,tech,judeo,brazilians,nanjing,acropolis\n",
      "Nearest to new:,sit,epinephrine,axioms,cordell,misanthropy,travelers,kazakh,hawkwind\n",
      "Nearest to zero:,suns,burman,starts,mutagenesis,golda,zemin,badges,abakan\n",
      "Nearest to called:,cynics,climates,claims,muni,geos,bin,papyrus,drava\n",
      "Nearest to th:,telharmonium,affecting,les,poses,summands,motivational,petroleum,triune\n",
      "Nearest to other:,photographers,pharmacist,merseyside,kirlian,regime,immature,nevi,cristobal\n",
      "Nearest to is:,definitive,reine,valeria,shadows,deliberation,monmouth,ys,qazaqstan\n",
      "Nearest to the:,ariadne,powerpoint,spelled,saffron,brooks,distro,avenging,bull\n",
      "Nearest to three:,geer,jeopardy,measures,joints,endnotes,gediminas,inversions,lollard\n",
      "Nearest to united:,witwatersrand,dumont,tero,struggling,ignores,revolves,acharya,freelance\n",
      "Average loss at step 200 : Tensor(\"truediv_55:0\", shape=(), dtype=float32)\n",
      "Average loss at step 400 : Tensor(\"truediv_56:0\", shape=(), dtype=float32)\n",
      "Average loss at step 600 : Tensor(\"truediv_57:0\", shape=(), dtype=float32)\n",
      "Average loss at step 800 : Tensor(\"truediv_58:0\", shape=(), dtype=float32)\n",
      "Average loss at step 1000 : Tensor(\"truediv_59:0\", shape=(), dtype=float32)\n",
      "Nearest to such:,greek,isbn,killed,rounds,after,canada,life,system\n",
      "Nearest to all:,th,climate,often,religion,nicea,four,groups,rounds\n",
      "Nearest to during:,life,alan,took,established,d,nine,turing,years\n",
      "Nearest to many:,preserve,development,is,living,material,green,members,tutorials\n",
      "Nearest to often:,that,is,january,went,usually,another,all,authorize\n",
      "Nearest to at:,congress,hebrew,mathbf,archaea,one,tradition,wallace,united\n",
      "Nearest to also:,armenian,rounds,acropolis,line,emperor,us,due,zero\n",
      "Nearest to new:,support,suicide,book,not,russian,terms,canada,trail\n",
      "Nearest to zero:,rounds,data,former,eight,antoninus,ocean,two,epistle\n",
      "Nearest to called:,papyrus,claims,nine,u,archaea,UNK,bishops,austria\n",
      "Nearest to th:,all,six,elected,very,suu,congress,square,c\n",
      "Nearest to other:,rounds,four,sisters,system,such,parts,marked,must\n",
      "Nearest to is:,greek,nine,north,even,life,often,rounds,epistles\n",
      "Nearest to the:,UNK,of,james,in,purpose,one,back,jerome\n",
      "Nearest to three:,n,archaea,on,have,analytical,special,rather,million\n",
      "Nearest to united:,rounds,keys,anisotropic,mathbf,eight,sun,UNK,scriptures\n"
     ]
    }
   ],
   "source": [
    "num_steps=1001\n",
    "with tf.Session(graph=graph) as session:\n",
    "    init.run()\n",
    "    print('initialized')\n",
    "    average_loss=0\n",
    "    for step in xrange(num_steps):\n",
    "        batch_inputs,batch_labels=generate_batch(batch_size,num_skips,skip_window)\n",
    "        feed_dict={train_inputs:batch_inputs,train_labels:batch_labels}\n",
    "        #优化一步\n",
    "        _,loss_val=session.run([optimizer,loss],feed_dict=feed_dict)\n",
    "        average_loss+=loss\n",
    "        if step%200==0:\n",
    "            if step>0:\n",
    "                average_loss/=200\n",
    "                print('Average loss at step',step,':',average_loss)\n",
    "                average_loss=0\n",
    "        if step%1000==0:\n",
    "            # sim 是验证词与所有词之间的相似度\n",
    "            sim=similarity.eval()\n",
    "            # 一共valid_size个验证词\n",
    "            for i in xrange(valid_size):\n",
    "                valid_word=reverse_dictionary[valid_examples[i]]\n",
    "                top_k=8 #输出最相邻的8个词语\n",
    "                nearest=(-sim[i,:]).argsort()[1:top_k+1]\n",
    "                log_str='Nearest to %s:'%valid_word\n",
    "                for k in xrange(top_k):\n",
    "                    close_word=reverse_dictionary[nearest[k]]\n",
    "                    log_str='%s,%s'%(log_str,close_word)\n",
    "                print(log_str)\n",
    "    #final_embeddings是最后的embedding向量，它的现状为[vocabulary size，embeddingsize]\n",
    "    # 每一行代表着对应单词id的词嵌入表示\n",
    "    final_embeddings=normalized_embeddings.eval()"
   ]
  },
  {
   "cell_type": "code",
   "execution_count": 23,
   "metadata": {},
   "outputs": [
    {
     "ename": "KeyboardInterrupt",
     "evalue": "",
     "output_type": "error",
     "traceback": [
      "\u001b[0;31m---------------------------------------------------------------------------\u001b[0m",
      "\u001b[0;31mKeyboardInterrupt\u001b[0m                         Traceback (most recent call last)",
      "\u001b[0;32m<ipython-input-23-0db425405c84>\u001b[0m in \u001b[0;36m<module>\u001b[0;34m()\u001b[0m\n\u001b[1;32m     15\u001b[0m \u001b[0mtsne\u001b[0m\u001b[0;34m=\u001b[0m\u001b[0mTSNE\u001b[0m\u001b[0;34m(\u001b[0m\u001b[0mperplexity\u001b[0m\u001b[0;34m=\u001b[0m\u001b[0;36m30\u001b[0m\u001b[0;34m,\u001b[0m\u001b[0mn_components\u001b[0m\u001b[0;34m=\u001b[0m\u001b[0;36m2\u001b[0m\u001b[0;34m,\u001b[0m\u001b[0minit\u001b[0m\u001b[0;34m=\u001b[0m\u001b[0;34m'pca'\u001b[0m\u001b[0;34m,\u001b[0m\u001b[0mn_iter\u001b[0m\u001b[0;34m=\u001b[0m\u001b[0;36m5000\u001b[0m\u001b[0;34m)\u001b[0m\u001b[0;34m\u001b[0m\u001b[0m\n\u001b[1;32m     16\u001b[0m \u001b[0mplot_only\u001b[0m\u001b[0;34m=\u001b[0m\u001b[0;36m500\u001b[0m\u001b[0;34m\u001b[0m\u001b[0m\n\u001b[0;32m---> 17\u001b[0;31m \u001b[0mlow_dim_embs\u001b[0m\u001b[0;34m=\u001b[0m\u001b[0mtsne\u001b[0m\u001b[0;34m.\u001b[0m\u001b[0mfit_transform\u001b[0m\u001b[0;34m(\u001b[0m\u001b[0mfinal_embeddings\u001b[0m\u001b[0;34m[\u001b[0m\u001b[0;34m:\u001b[0m\u001b[0mplot_only\u001b[0m\u001b[0;34m,\u001b[0m\u001b[0;34m:\u001b[0m\u001b[0;34m]\u001b[0m\u001b[0;34m)\u001b[0m\u001b[0;34m\u001b[0m\u001b[0m\n\u001b[0m\u001b[1;32m     18\u001b[0m \u001b[0mlabels\u001b[0m\u001b[0;34m=\u001b[0m\u001b[0;34m[\u001b[0m\u001b[0mreverse_dictionary\u001b[0m\u001b[0;34m[\u001b[0m\u001b[0mi\u001b[0m\u001b[0;34m]\u001b[0m \u001b[0;32mfor\u001b[0m \u001b[0mi\u001b[0m \u001b[0;32min\u001b[0m \u001b[0mxrange\u001b[0m\u001b[0;34m(\u001b[0m\u001b[0mplot_only\u001b[0m\u001b[0;34m)\u001b[0m\u001b[0;34m]\u001b[0m\u001b[0;34m\u001b[0m\u001b[0m\n\u001b[1;32m     19\u001b[0m \u001b[0mplot_with_labels\u001b[0m\u001b[0;34m(\u001b[0m\u001b[0mlow_dim_embs\u001b[0m\u001b[0;34m,\u001b[0m\u001b[0mlabels\u001b[0m\u001b[0;34m)\u001b[0m\u001b[0;34m\u001b[0m\u001b[0m\n",
      "\u001b[0;32m/home/yanhuanqian/anaconda2/lib/python2.7/site-packages/sklearn/manifold/t_sne.pyc\u001b[0m in \u001b[0;36mfit_transform\u001b[0;34m(self, X, y)\u001b[0m\n\u001b[1;32m    857\u001b[0m             \u001b[0mEmbedding\u001b[0m \u001b[0mof\u001b[0m \u001b[0mthe\u001b[0m \u001b[0mtraining\u001b[0m \u001b[0mdata\u001b[0m \u001b[0;32min\u001b[0m \u001b[0mlow\u001b[0m\u001b[0;34m-\u001b[0m\u001b[0mdimensional\u001b[0m \u001b[0mspace\u001b[0m\u001b[0;34m.\u001b[0m\u001b[0;34m\u001b[0m\u001b[0m\n\u001b[1;32m    858\u001b[0m         \"\"\"\n\u001b[0;32m--> 859\u001b[0;31m         \u001b[0membedding\u001b[0m \u001b[0;34m=\u001b[0m \u001b[0mself\u001b[0m\u001b[0;34m.\u001b[0m\u001b[0m_fit\u001b[0m\u001b[0;34m(\u001b[0m\u001b[0mX\u001b[0m\u001b[0;34m)\u001b[0m\u001b[0;34m\u001b[0m\u001b[0m\n\u001b[0m\u001b[1;32m    860\u001b[0m         \u001b[0mself\u001b[0m\u001b[0;34m.\u001b[0m\u001b[0membedding_\u001b[0m \u001b[0;34m=\u001b[0m \u001b[0membedding\u001b[0m\u001b[0;34m\u001b[0m\u001b[0m\n\u001b[1;32m    861\u001b[0m         \u001b[0;32mreturn\u001b[0m \u001b[0mself\u001b[0m\u001b[0;34m.\u001b[0m\u001b[0membedding_\u001b[0m\u001b[0;34m\u001b[0m\u001b[0m\n",
      "\u001b[0;32m/home/yanhuanqian/anaconda2/lib/python2.7/site-packages/sklearn/manifold/t_sne.pyc\u001b[0m in \u001b[0;36m_fit\u001b[0;34m(self, X, skip_num_points)\u001b[0m\n\u001b[1;32m    771\u001b[0m                           \u001b[0mX_embedded\u001b[0m\u001b[0;34m=\u001b[0m\u001b[0mX_embedded\u001b[0m\u001b[0;34m,\u001b[0m\u001b[0;34m\u001b[0m\u001b[0m\n\u001b[1;32m    772\u001b[0m                           \u001b[0mneighbors\u001b[0m\u001b[0;34m=\u001b[0m\u001b[0mneighbors_nn\u001b[0m\u001b[0;34m,\u001b[0m\u001b[0;34m\u001b[0m\u001b[0m\n\u001b[0;32m--> 773\u001b[0;31m                           skip_num_points=skip_num_points)\n\u001b[0m\u001b[1;32m    774\u001b[0m \u001b[0;34m\u001b[0m\u001b[0m\n\u001b[1;32m    775\u001b[0m     \u001b[0;34m@\u001b[0m\u001b[0mproperty\u001b[0m\u001b[0;34m\u001b[0m\u001b[0m\n",
      "\u001b[0;32m/home/yanhuanqian/anaconda2/lib/python2.7/site-packages/sklearn/manifold/t_sne.pyc\u001b[0m in \u001b[0;36m_tsne\u001b[0;34m(self, P, degrees_of_freedom, n_samples, random_state, X_embedded, neighbors, skip_num_points)\u001b[0m\n\u001b[1;32m    828\u001b[0m             \u001b[0mopt_args\u001b[0m\u001b[0;34m[\u001b[0m\u001b[0;34m'n_iter_without_progress'\u001b[0m\u001b[0;34m]\u001b[0m \u001b[0;34m=\u001b[0m \u001b[0mself\u001b[0m\u001b[0;34m.\u001b[0m\u001b[0mn_iter_without_progress\u001b[0m\u001b[0;34m\u001b[0m\u001b[0m\n\u001b[1;32m    829\u001b[0m             params, kl_divergence, it = _gradient_descent(obj_func, params,\n\u001b[0;32m--> 830\u001b[0;31m                                                           **opt_args)\n\u001b[0m\u001b[1;32m    831\u001b[0m \u001b[0;34m\u001b[0m\u001b[0m\n\u001b[1;32m    832\u001b[0m         \u001b[0;31m# Save the final number of iterations\u001b[0m\u001b[0;34m\u001b[0m\u001b[0;34m\u001b[0m\u001b[0m\n",
      "\u001b[0;32m/home/yanhuanqian/anaconda2/lib/python2.7/site-packages/sklearn/manifold/t_sne.pyc\u001b[0m in \u001b[0;36m_gradient_descent\u001b[0;34m(objective, p0, it, n_iter, n_iter_check, n_iter_without_progress, momentum, learning_rate, min_gain, min_grad_norm, verbose, args, kwargs)\u001b[0m\n\u001b[1;32m    337\u001b[0m     \u001b[0mtic\u001b[0m \u001b[0;34m=\u001b[0m \u001b[0mtime\u001b[0m\u001b[0;34m(\u001b[0m\u001b[0;34m)\u001b[0m\u001b[0;34m\u001b[0m\u001b[0m\n\u001b[1;32m    338\u001b[0m     \u001b[0;32mfor\u001b[0m \u001b[0mi\u001b[0m \u001b[0;32min\u001b[0m \u001b[0mrange\u001b[0m\u001b[0;34m(\u001b[0m\u001b[0mit\u001b[0m\u001b[0;34m,\u001b[0m \u001b[0mn_iter\u001b[0m\u001b[0;34m)\u001b[0m\u001b[0;34m:\u001b[0m\u001b[0;34m\u001b[0m\u001b[0m\n\u001b[0;32m--> 339\u001b[0;31m         \u001b[0merror\u001b[0m\u001b[0;34m,\u001b[0m \u001b[0mgrad\u001b[0m \u001b[0;34m=\u001b[0m \u001b[0mobjective\u001b[0m\u001b[0;34m(\u001b[0m\u001b[0mp\u001b[0m\u001b[0;34m,\u001b[0m \u001b[0;34m*\u001b[0m\u001b[0margs\u001b[0m\u001b[0;34m,\u001b[0m \u001b[0;34m**\u001b[0m\u001b[0mkwargs\u001b[0m\u001b[0;34m)\u001b[0m\u001b[0;34m\u001b[0m\u001b[0m\n\u001b[0m\u001b[1;32m    340\u001b[0m         \u001b[0mgrad_norm\u001b[0m \u001b[0;34m=\u001b[0m \u001b[0mlinalg\u001b[0m\u001b[0;34m.\u001b[0m\u001b[0mnorm\u001b[0m\u001b[0;34m(\u001b[0m\u001b[0mgrad\u001b[0m\u001b[0;34m)\u001b[0m\u001b[0;34m\u001b[0m\u001b[0m\n\u001b[1;32m    341\u001b[0m \u001b[0;34m\u001b[0m\u001b[0m\n",
      "\u001b[0;32m/home/yanhuanqian/anaconda2/lib/python2.7/site-packages/sklearn/manifold/t_sne.pyc\u001b[0m in \u001b[0;36m_kl_divergence_bh\u001b[0;34m(params, P, degrees_of_freedom, n_samples, n_components, angle, skip_num_points, verbose)\u001b[0m\n\u001b[1;32m    245\u001b[0m     error = _barnes_hut_tsne.gradient(val_P, X_embedded, neighbors, indptr,\n\u001b[1;32m    246\u001b[0m                                       \u001b[0mgrad\u001b[0m\u001b[0;34m,\u001b[0m \u001b[0mangle\u001b[0m\u001b[0;34m,\u001b[0m \u001b[0mn_components\u001b[0m\u001b[0;34m,\u001b[0m \u001b[0mverbose\u001b[0m\u001b[0;34m,\u001b[0m\u001b[0;34m\u001b[0m\u001b[0m\n\u001b[0;32m--> 247\u001b[0;31m                                       dof=degrees_of_freedom)\n\u001b[0m\u001b[1;32m    248\u001b[0m     \u001b[0mc\u001b[0m \u001b[0;34m=\u001b[0m \u001b[0;36m2.0\u001b[0m \u001b[0;34m*\u001b[0m \u001b[0;34m(\u001b[0m\u001b[0mdegrees_of_freedom\u001b[0m \u001b[0;34m+\u001b[0m \u001b[0;36m1.0\u001b[0m\u001b[0;34m)\u001b[0m \u001b[0;34m/\u001b[0m \u001b[0mdegrees_of_freedom\u001b[0m\u001b[0;34m\u001b[0m\u001b[0m\n\u001b[1;32m    249\u001b[0m     \u001b[0mgrad\u001b[0m \u001b[0;34m=\u001b[0m \u001b[0mgrad\u001b[0m\u001b[0;34m.\u001b[0m\u001b[0mravel\u001b[0m\u001b[0;34m(\u001b[0m\u001b[0;34m)\u001b[0m\u001b[0;34m\u001b[0m\u001b[0m\n",
      "\u001b[0;31mKeyboardInterrupt\u001b[0m: "
     ]
    }
   ],
   "source": [
    "import matplotlib\n",
    "matplotlib.use('Agg')\n",
    "import matplotlib.pyplot as plt\n",
    "def plot_with_labels(low_dim_embs,labels,filename='tsne.png'):\n",
    "    assert low_dim_embs.shape[0]>=len(labels),'More labels than embeddings'\n",
    "    plt.figure(figsize=(18,18)) #in inches\n",
    "    for i,label in enumerate(labels):\n",
    "        x,y=low_dim_embs[i,:]\n",
    "        plt.scatter(x,y)\n",
    "        plt.annotate(label,xy=(x,y),xytext=(5,2),textcoords='offset points',ha='right',va='bottom')\n",
    "        plt.savefig(filename)\n",
    "\n",
    "from sklearn.manifold import TSNE\n",
    "#t sne 降维\n",
    "tsne=TSNE(perplexity=30,n_components=2,init='pca',n_iter=5000)\n",
    "plot_only=500\n",
    "low_dim_embs=tsne.fit_transform(final_embeddings[:plot_only,:])\n",
    "labels=[reverse_dictionary[i] for i in xrange(plot_only)]\n",
    "plot_with_labels(low_dim_embs,labels)"
   ]
  },
  {
   "cell_type": "code",
   "execution_count": null,
   "metadata": {
    "collapsed": true
   },
   "outputs": [],
   "source": []
  }
 ],
 "metadata": {
  "anaconda-cloud": {},
  "kernelspec": {
   "display_name": "Python [default]",
   "language": "python",
   "name": "python2"
  },
  "language_info": {
   "codemirror_mode": {
    "name": "ipython",
    "version": 2
   },
   "file_extension": ".py",
   "mimetype": "text/x-python",
   "name": "python",
   "nbconvert_exporter": "python",
   "pygments_lexer": "ipython2",
   "version": "2.7.12"
  }
 },
 "nbformat": 4,
 "nbformat_minor": 1
}
